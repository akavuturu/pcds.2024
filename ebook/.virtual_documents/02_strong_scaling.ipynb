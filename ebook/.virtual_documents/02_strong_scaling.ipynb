





import numpy as np
import pandas as pd

resources = np.array(range(1,65))
p=0.92

dfdata = {'resources': resources, 'speedup': 1/((1-p)+p/resources)}
df = pd.DataFrame(dfdata)
df


%matplotlib inline

import matplotlib.pyplot as plt

plt.figure(figsize=(8,6))
plt.plot(df.resources, df.speedup, linewidth=3, label='speedup')
plt.plot(df.resources, df.resources, linewidth=3, label='ideal')
plt.xlabel('resources')
plt.ylabel('speedup')
plt.legend()
plt.show()





plt.figure(figsize=(8,6))
plt.plot(df.resources, df.speedup, linewidth=3, label='speedup')
plt.plot(df.resources, df.resources, linewidth=3, label='ideal')
plt.xlabel('resources')
plt.ylabel('speedup')
plt.xscale('log')
plt.yscale('log')
plt.legend()
plt.show()





%matplotlib inline

from itertools import product
import numpy as np
import pandas as pd

resources = range(1,65)
p = [0,.5,.9,.95,.99,.999, 1.0]

data_arr = np.empty((len(resources), len(p)))

#initialize array -- using embedded for loops
#for i in range(len(p)):
#    for j in range(len(resources)):
#        data_arr[i,j] = 1/(1-p[i]+p[i]/resources[j])  
        
# initiliaze array using numpy indexing
for i,j in np.ndindex(data_arr.shape):
    data_arr[i,j] = 1/(1-p[j]+p[j]/resources[i])  
    
# RB I tried to fool around with map/vectorize here and failed.

df = pd.DataFrame(data=data_arr, index=resources, columns=p)
df.plot()





# 80 = 1 / ((1-p)+p/100)
p = (100-100/80)/99
p





# we measure perforamnce as a function of processors. 
processors = np.array([2,4,8,16,32])
speedup = np.array([1.85, 3.30, 5.34, 7.4, 9.4])
p_frac = processors/(processors-1)*(1-1/speedup)
p_frac





slim = 1/(1-0.92)
slim





%matplotlib inline

import numpy as np
import pandas as pd
import matplotlib.pyplot as plt

resources = np.array(range(1,65))
p=0.92

dfdata = {'resources': resources, 'speedup': 1/((1-p)+p/resources)}
df = pd.DataFrame(dfdata)

%matplotlib inline

plt.figure(figsize=(8,6))
plt.plot(df.resources, df.speedup, linewidth=3, label='speedup')
plt.plot(df.resources, df.resources, linewidth=3, label='ideal')
plt.plot(df.resources, slim + 0*df.resources, linewidth=3, label='limit')
plt.xlabel('resources')
plt.ylabel('speedup')
plt.legend()
plt.show()












