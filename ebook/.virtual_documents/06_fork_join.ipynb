














import matplotlib.pyplot as plt
import matplotlib.animation
import matplotlib.image as mgimg
fig = plt.figure()
plt.axis('off')
ani = matplotlib.animation.ArtistAnimation(fig, [[plt.imshow(mgimg.imread("./images/fork_join_lec/"+fname))]
              for fname in ["divide_and_conquer"+str(i)+".png" for i in range(10)]])
from IPython.display import HTML
HTML(ani.to_jshtml())







































