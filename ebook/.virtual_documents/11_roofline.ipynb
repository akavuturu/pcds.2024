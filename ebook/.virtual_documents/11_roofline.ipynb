





library(ggplot2)

intensity = 2^(-8:4)

offchip = 16 # GB/s
flopsmax = 16 # GFLOPs
        
memband <- data.frame(intensity, intensity * 16, flopsmax )
colnames(memband) <- c("intensity", "FLOPS", 'cpuFLOPS')

aplot <- ggplot(memband, aes(x=intensity, y=FLOPS, color="off-chip")) + geom_line() +
            geom_line(data=memband, aes(x=intensity, y=cpuFLOPS, color="cpu")) +
            coord_trans(x="log2", y="log2") #+ scale_y_continuous(limits=c(1,50))

print(aplot)






library(ggplot2)
library(repr)
options(repr.plot.width=8, repr.plot.height=6)

intensity = 2^(-8:4)
offchip = 16 # GB/s
flopsmax = 16 # GFLOPs
        
memband <- data.frame(intensity, intensity * 16, flopsmax, pmin(intensity*16,flopsmax) )
colnames(memband) <- c("intensity", "FLOPS", 'cpuFLOPS', 'Roofline')
       
aplot <- ggplot(memband, aes(x=intensity, y=FLOPS, color="off-chip")) + geom_line() +
            geom_line(data=memband, aes(x=intensity, y=cpuFLOPS, color="cpu")) +
            geom_line(data=memband, aes(x=intensity, y=Roofline, color="roofline"), linewidth=3) +
            coord_trans(x="log2", y="log2") #+ scale_y_continuous(limits=c(1,50))
print(aplot)








library(ggplot2)
library(repr)
options(repr.plot.width=8, repr.plot.height=6)

intensity = 2^(-8:4)

offchip = 16 # GB/s
flopsmax = 16 # GFLOPs
flopsmax2 = 64
        
memband <- data.frame(intensity, pmin(intensity*16,flopsmax), pmin(intensity*16,flopsmax2) )
colnames(memband) <- c("intensity", "x2", 'x4')
       
aplot <- ggplot(memband, aes(x=intensity, y=x2, color="x2")) + geom_line() +
            geom_line(data=memband, aes(x=intensity, y=x4, color="x4")) +
             coord_trans(x="log2", y="log2") #+ scale_y_continuous(limits=c(1,50))
           # coord_trans(x="log2") #+ scale_y_continuous(limits=c(1,50))


print(aplot)















