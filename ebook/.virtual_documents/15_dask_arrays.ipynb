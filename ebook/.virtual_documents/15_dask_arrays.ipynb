


import numpy as np
import dask.array as da
import h5py

# load a file and grab the data
f = h5py.File("./data/isotropic4096.h5","r")
d = f['u00000']

# convert data into a dask array
uvec = da.from_array(d[0,:,:,:], chunks=(64, 64, 3))
uvec





# take the velocity magnitude at each location
umag = da.linalg.norm(uvec, axis=2)
umag








%%timeit
umag





%%timeit
umag.compute()


umag.compute()





%matplotlib inline
import matplotlib.pyplot as plt

plt.figure(figsize=(10,8))
plt.imshow(umag, cmap='viridis', interpolation='nearest')
plt.show()








# convert data into a dask array
#sm_uvec = da.from_array(d[0,:,:,:], chunks=(64, 64, 3))
sm_uvec = da.from_array(d[0,0:256,0:256,:], chunks=(64, 64, 3))
sm_umag = da.linalg.norm(sm_uvec, axis=2)
sm_umag.visualize()









