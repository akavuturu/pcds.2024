* Dynamic scheduling example in OpenMP?
* Ask about work/space on HW.
