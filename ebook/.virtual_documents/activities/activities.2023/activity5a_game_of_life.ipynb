


def rules_of_life(subgrid):
    """Evaluate the rules of life on a 2-d subarray.
    The array should have an overlap of 1 cell in all dimension
    and on the corner.

    Args:
        subgrid (ndarray): Input array

    Returns:
        outgrid (ndarray): Array updated by rules of life
    """
    # we will receive an array with 1 dimension of padding
    xdim, ydim = subgrid.shape

    # output array to keep updates
    outgrid = np.zeros(shape=subgrid.shape, dtype=subgrid.dtype)

    # update only in center (non-overlapping) regaion
    for x in range(1,xdim-1):
        for y in range(1, ydim-1):
            sum = subgrid[x-1,y-1] + subgrid[x,y-1] + subgrid[x+1,y-1] +\
                  subgrid[x-1,y]   + subgrid[x+1,y] +\
                  subgrid[x-1,y+1] + subgrid[x,y+1] + subgrid[x+1,y+1]
            # three neighbors birth
            if (sum == 3):
                outgrid[x,y] = 1
            # two neighbors no change
            elif (sum == 2):
                outgrid[x,y] = subgrid[x,y]
            # <2 or >3 death
            else:
                outgrid[x,y] = 0

    return outgrid


import numpy as np

# small_exploder pattern
small_exploder = np.array([[0,1,0],[1,1,1],[1,0,1],[0,1,0]], dtype=np.uint8)


%matplotlib inline
from matplotlib import pyplot as plt

grid = np.zeros((16,16), dtype=np.uint8)
grid[6:small_exploder.shape[0]+6,6:small_exploder.shape[1]+6] = small_exploder

plt.imshow(grid, cmap='Greys', interpolation='nearest')
plt.show()


%matplotlib inline
from matplotlib import pyplot as plt

"""mini-demo: no dask.  Start the small exploder in center and iterate."""
grid = np.zeros((16,16), dtype=np.uint8)
grid[6:small_exploder.shape[0]+6,6:small_exploder.shape[1]+6] = small_exploder

plt.imshow(grid, cmap='Greys', interpolation='nearest')
plt.show()

for i in range(20):
    grid = rules_of_life(grid)
    plt.imshow(grid, cmap='Greys', interpolation='nearest')
    plt.show()








# glider pattern
glider = np.array([[0,1,0],[0,0,1],[1,1,1]], dtype=np.uint8)
plt.imshow(glider, cmap='Greys', interpolation='nearest')
plt.show()


import dask.array as da

# put the glider in the top corner of a 16x16 grid
grid = np.zeros((16,16), dtype=np.uint8)
grid[0:glider.shape[0],0:glider.shape[1]] = glider

# build a dask array of 4 8x8 chunks
dagrid = da.from_array(grid, chunks=(8, 8))

# display the grid metadata
dagrid


# print the contents: see the glider
plt.imshow(dagrid, cmap='Greys', interpolation='nearest')
plt.show()


# 64 total iterations to repeat
for i in range(16):
    # glider shape repeats every 4 steps --
    for i in range(4):

        # define overlappings region for stencil computations
        # TODO ...

        # update the regions in parallel
        # TODO ...

        # trim the chunks and rebuild the overlap
        # TODO ...

    # print every fourth cycle -- should still look like a glider
    plt.imshow(dagrid, cmap='Greys', interpolation='nearest')
    plt.show()



