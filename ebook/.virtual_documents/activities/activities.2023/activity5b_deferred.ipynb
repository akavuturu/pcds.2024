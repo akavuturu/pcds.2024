





import dask.dataframe as dd

df = dd.read_csv("../data/nycflight/*.csv",
                 parse_dates={'Date': [0, 1, 2]},
                 dtype={'TailNum': str,
                        'CRSElapsedTime': float,
                        'Cancelled': bool})
df





#TODO
df_delay





%matplotlib inline
#TODO





import numpy as np
lateplanes = #TODO
print(np.sort(lateplanes))





df_late = #TODO
df_late





import numpy as np
latelist = #TODO
print(np.sort(latelist))





#TODO total DepDelay for planes by Origin airport


#TODO average DepDelay for planes by Origin airport


#TODO number of late flights by Origin airport





import dask.dataframe as dd
df = dd.read_csv("../data/nycflight/*.csv",
                 parse_dates={'Date': [0, 1, 2]},
                 dtype={'TailNum': str,
                        'CRSElapsedTime': float,
                        'Cancelled': bool})





%%time

#TODO





import dask.dataframe as dd
df = dd.read_csv("../data/nycflight/*.csv",
                 parse_dates={'Date': [0, 1, 2]},
                 dtype={'TailNum': str,
                        'CRSElapsedTime': float,
                        'Cancelled': bool})


%%time

#TODO









