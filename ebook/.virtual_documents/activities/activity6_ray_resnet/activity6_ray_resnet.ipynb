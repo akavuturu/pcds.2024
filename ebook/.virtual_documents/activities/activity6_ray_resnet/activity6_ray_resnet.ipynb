


from rayresnet50_normalize import RRN50Normalize
from rayresnet50_classify import RRN50Classify
import ray
import time
import os

num_actors=4

# script to drive parallel program
ray.init(num_cpus=num_actors, ignore_reinit_error=True)

### TODO instantiate 4 normalization actors
normalize_actors = [RRN50Normalize.remote() for _ in range(num_actors)]

### TODO instantiate 4 classification actors
classify_actors = [RRN50Classify.remote() for _ in range(num_actors)]

directory = '../../data/imagenet1000'
files = os.listdir(directory)

start_time = time.time()  # Get the current time

normalize_oids = []
classify_oids = []

for i in range(len(files)):
    if files[i].endswith(".JPEG"):
        file_path = os.path.join(directory, files[i])

        ### TODO call remote to normalize image into tensor
        normalize_actor = normalize_actors[i % num_actors]
        norm_oid = normalize_actor.normalize_image.remote(file_path)
    
        ### TODO call remote to classify tensor
        classify_actor = classify_actors[i % num_actors]
        class_oid = classify_actor.classify_image.remote(norm_oid)
        
        ### TODO store the oids needed to complete the computation
        normalize_oids.append((files[i], norm_oid))
        classify_oids.append((files[i], class_oid))
err = 0
for i in range(len(files)):
    try:
        if files[i].endswith(".JPEG"):
            ### TODO collect results for each file in a variable preds
            file_name, class_oid = classify_oids[i]
            preds = ray.get(class_oid)

            parsed = file_name.split(".")[0].split("_")[1:]
            filename = " ".join(parsed)
            if filename not in preds: err += 1
    except:
        pass

end_time = time.time()  # Get the current time again

execution_time = end_time - start_time
print("Execution time: ", execution_time, " seconds")
print(f"Error rate: {(err / len(files)):0.4f}") 


ray.shutdown()



