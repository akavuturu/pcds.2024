





from rayresnet50_normalize import RRN50Normalize
from rayresnet50_classify import RRN50Classify
import ray
import time
import os

num_actors=4

# script to drive parallel program
ray.init(num_cpus=num_actors, ignore_reinit_error=True)

### TODO instantiate 4 normalization actors
normalize_actors = [RRN50Normalize.remote() for _ in range(num_actors)]

### TODO instantiate 4 classification actors
classify_actors = [RRN50Classify.remote() for _ in range(num_actors)]

directory = '../../data/imagenet1000'
files = os.listdir(directory)

classify_oids = {}

start_time = time.time()  # Get the current time

for i in range(len(files)):
    if files[i].endswith(".JPEG"):
        file_path = os.path.join(directory, files[i])

        ### TODO call remote to normalize image into tensor
        normalized_img = normalize_actors[i % num_actors].normalize_image.remote(file_path)
        
        ### TODO call remote to classify tensor
        classify_oid = classify_actors[i % num_actors].classify_image.remote(normalized_img)
        
        ### TODO store the oids needed to complete the computation
        classify_oids[filename] = classify_oid
        
for i, filename in enumerate(os.listdir(directory)):
    try:
        preds = ray.get(classify_oids[filename])
        print(f"Filename {[filename]}: predictions {preds}")
    except Exception as e:
        print(f"Error in retrieving results for file {filename}: {e}")

end_time = time.time()  # Get the current time again

execution_time = end_time - start_time
print("Execution time: ", execution_time, " seconds")
ray.shutdown()



